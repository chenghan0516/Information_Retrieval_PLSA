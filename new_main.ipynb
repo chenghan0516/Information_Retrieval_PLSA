{
 "cells": [
  {
   "cell_type": "code",
   "execution_count": 21,
   "metadata": {},
   "outputs": [],
   "source": [
    "from tqdm import tqdm\n",
    "import pickle\n",
    "import math\n",
    "import numpy as np\n",
    "query_list_path = \"q_100_d_10000/query_list.txt\"\n",
    "doc_list_path = \"q_100_d_10000/doc_list.txt\"\n",
    "\n",
    "with open(query_list_path, \"r\") as f:\n",
    "    q_list = f.read().split('\\n')[:-1]\n",
    "with open(doc_list_path, \"r\") as f:\n",
    "    d_list = f.read().split('\\n')[:-1]\n",
    "d_dict = {doc:doc_index for doc_index,doc in enumerate(d_list)}\n",
    "\n",
    "def get_query_word(q):\n",
    "    with open(\"q_100_d_10000/queries/{}.txt\".format(q),'r') as f:\n",
    "        words = f.read().split(' ')\n",
    "    return words\n",
    "def get_doc_word(d):\n",
    "    with open(\"q_100_d_10000/docs/{}.txt\".format(d),'r') as f:\n",
    "        words = f.read().split(' ')\n",
    "    return words\n",
    "def get_random_probability_matrix(event_num,condition_num):\n",
    "    matrix=np.random.random_sample((event_num,condition_num))\n",
    "    for i in range(condition_num):\n",
    "        temp_sum = matrix[:,i].sum()\n",
    "        matrix[:,i]/=temp_sum #set sum to 1\n",
    "    return matrix\n",
    "\n",
    "class parameter_retriever:\n",
    "    def __init__(self,topic_num):\n",
    "        self.index_term_dict=dict()\n",
    "        self.index_term_num = 0\n",
    "        self.topic_num = topic_num\n",
    "        self.doc_num = len(d_list)\n",
    "\n",
    "        self.c_wd = [dict() for _ in range(self.index_term_num)]\n",
    "        self.doc_length = [0 for _ in range(len(d_list))]\n",
    "        self.c_w = [0 for _ in range(self.index_term_num)]\n",
    "\n",
    "        self.P_w_T = []\n",
    "        self.P_T_d = []\n",
    "\n",
    "\n",
    "    def create_index_term_set(self):\n",
    "        print(\"creating index term set\")\n",
    "        print(\" creating index term set from query\")\n",
    "        index_term_set_q = set()\n",
    "        for q in tqdm(q_list):\n",
    "            words = get_query_word(q)\n",
    "            index_term_set_q = index_term_set_q.union(set(words))\n",
    "\n",
    "        print(\" creating index term set from doc\")\n",
    "        index_term_set_d = set()\n",
    "        for d in tqdm(d_list):\n",
    "            words = get_doc_word(d)\n",
    "            index_term_set_d = index_term_set_d.union(set(words))\n",
    "\n",
    "        index_term_set = index_term_set_q.union(index_term_set_d)\n",
    "        self.index_term_dict={index_term:index_term_index for index_term_index,index_term in enumerate(index_term_set)}\n",
    "        self.index_term_num = len(index_term_set)\n",
    "        print(\"number of words in index_term_set: {}\".format(self.index_term_num))\n",
    "        print(\"...done\")\n",
    "\n",
    "    def get_word_count_in_doc(self):\n",
    "        print(\"getting word counts in doc/doc_length/BG\")\n",
    "        self.c_wd = [dict() for _ in range(self.index_term_num)]\n",
    "        self.doc_length = [0 for _ in range(len(d_list))]\n",
    "        self.c_w = [0 for _ in range(self.index_term_num)]\n",
    "\n",
    "        for doc_index,doc in tqdm(enumerate(d_list)):\n",
    "            words = get_doc_word(doc)\n",
    "            for word in set(words):\n",
    "                if word in self.index_term_dict:\n",
    "                    self.c_w[self.index_term_dict[word]]+=1\n",
    "                    self.c_wd[self.index_term_dict[word]][doc_index]=0\n",
    "            for word in words:\n",
    "                if word in self.index_term_dict:\n",
    "                    self.c_wd[self.index_term_dict[word]][doc_index]+=1\n",
    "                    self.doc_length[doc_index]+=1\n",
    "        print(\"calculate total word counts and total counts of each word\")\n",
    "        self.total_words_count = 0\n",
    "        self.total_count_of_a_word = [0 for _ in range(self.index_term_num)]\n",
    "        for index_term_index in range(self.index_term_num):\n",
    "            for doc_index in self.c_wd[index_term_index].keys():\n",
    "                self.total_words_count+=self.c_wd[index_term_index][doc_index]\n",
    "                self.total_count_of_a_word[index_term_index]+=self.c_wd[index_term_index][doc_index]\n",
    "\n",
    "        print(\"...done\")\n",
    "\n",
    "    def clean_index_term_set(self):\n",
    "        print(\"cleaning index term whose c_w<=2\")\n",
    "        index_term_set = {index_term for index_term_index,index_term in enumerate(self.index_term_dict) if self.c_w[index_term_index]>2}\n",
    "        self.index_term_dict={index_term:index_term_index for index_term_index,index_term in enumerate(index_term_set)}\n",
    "        self.index_term_num = len(self.index_term_dict)\n",
    "        print(\" index_term_num after cleaning: {}\".format(self.index_term_num))\n",
    "        self.get_word_count_in_doc()\n",
    "        print(\"...done\")\n",
    "\n",
    "    def initPossibilities(self):\n",
    "        print(\"initializing possibilities\")\n",
    "        random_matrix = get_random_probability_matrix(self.index_term_num,self.topic_num)\n",
    "        for index_term_idx in range(self.index_term_num):\n",
    "            self.P_w_T.append([probability for probability in random_matrix[index_term_idx,:].tolist()])\n",
    "        \n",
    "        random_matrix = get_random_probability_matrix(self.topic_num,self.doc_num)\n",
    "        for topic_idx in range(self.topic_num):\n",
    "            self.P_T_d.append([probability for probability in random_matrix[topic_idx,:].tolist()])\n",
    "        print(\"...done\")\n",
    "\n",
    "        \n",
    "    def iter(self):\n",
    "        # print(\"start E_step\")\n",
    "        sum_of_cP_in_D=[[0 for _ in range(self.topic_num)] for _ in range(self.index_term_num)]\n",
    "        sum_of_cP_in_V=[[0 for _ in range(len(d_list))] for _ in range(self.topic_num)]\n",
    "        PP_list=[0 for _ in range(self.topic_num)]\n",
    "        for index_term_index in tqdm(range(self.index_term_num),leave=False):\n",
    "            for doc_index in self.c_wd[index_term_index].keys():\n",
    "                tempPP_sum=0\n",
    "                for topic_idx in range(self.topic_num):\n",
    "                    tempPP=self.P_w_T[index_term_index][topic_idx]*self.P_T_d[topic_idx][doc_index]\n",
    "                    PP_list[topic_idx]=tempPP\n",
    "                    tempPP_sum+=tempPP\n",
    "\n",
    "                tempFrac=self.c_wd[index_term_index][doc_index]/tempPP_sum\n",
    "                for topic_idx in range(self.topic_num):\n",
    "                    cP=PP_list[topic_idx]*tempFrac\n",
    "                    sum_of_cP_in_D[index_term_index][topic_idx]+=cP\n",
    "                    sum_of_cP_in_V[topic_idx][doc_index]+=cP\n",
    "    \n",
    "        # print(\"start M_step\")\n",
    "        # print(\" process P_w_T\")\n",
    "        for topic_index in range(self.topic_num):\n",
    "            sum_of_topic_k = 0\n",
    "            for index_term_index in range(self.index_term_num):\n",
    "                sum_of_topic_k+=sum_of_cP_in_D[index_term_index][topic_index]\n",
    "            for index_term_index in range(self.index_term_num):\n",
    "                self.P_w_T[index_term_index][topic_index]=sum_of_cP_in_D[index_term_index][topic_index]/sum_of_topic_k\n",
    "        # print(\" process P_T_d\")\n",
    "        for doc_index in range(len(d_list)):\n",
    "            if self.doc_length[doc_index]==0:\n",
    "                for topic_index in range(self.topic_num):\n",
    "                    self.P_T_d[topic_index][doc_index] = 1.0/self.topic_num\n",
    "            else:\n",
    "                for topic_index in range(self.topic_num):\n",
    "                    self.P_T_d[topic_index][doc_index]=sum_of_cP_in_V[topic_index][doc_index]/self.doc_length[doc_index]\n",
    "        # print(\"...done\")\n",
    "\n",
    "\n",
    "\n",
    "class PLSA:\n",
    "    def __init__(self,topic_num,alpha,beta):\n",
    "        self.topic_num=topic_num\n",
    "        self.param = parameter_retriever(topic_num)\n",
    "        \n",
    "        self.alpha=alpha\n",
    "        self.beta=beta\n",
    "    \n",
    "    def init_param(self):\n",
    "        self.param.create_index_term_set()\n",
    "        self.param.get_word_count_in_doc()\n",
    "        self.param.clean_index_term_set()\n",
    "        self.param.initPossibilities()\n",
    "\n",
    "    def train(self):\n",
    "        self.param.iter()\n",
    "\n",
    "    def get_sim(self,idx_doc,q):\n",
    "        if self.param.doc_length[idx_doc]==0:\n",
    "            return -999999999\n",
    "        logsum=0\n",
    "        for word in get_query_word(q):\n",
    "            if word in self.param.index_term_dict:\n",
    "                word_index=self.param.index_term_dict[word]\n",
    "                if idx_doc in self.param.c_wd[word_index]:\n",
    "                    first = self.alpha*self.param.c_wd[word_index][idx_doc]/self.param.doc_length[idx_doc]\n",
    "                    # first = math.log(first)\n",
    "                else:\n",
    "                    # first = -15\n",
    "                    first = 0\n",
    "\n",
    "                second = 0\n",
    "                for topic_idx in range(self.topic_num):\n",
    "                    second+=self.param.P_w_T[word_index][topic_idx]*self.param.P_T_d[topic_idx][idx_doc]\n",
    "                second*=self.beta\n",
    "                # second = math.log(second)\n",
    "                \n",
    "                \n",
    "                third = (1-self.alpha-self.beta)*self.param.total_count_of_a_word[word_index]/self.param.total_words_count\n",
    "                # third = math.log(third)\n",
    "\n",
    "                # temp = np.logaddexp(first, second)\n",
    "                # temp = np.logaddexp(temp, third)\n",
    "                logsum+=math.log(first+second+third)\n",
    "        return logsum\n",
    "    def query(self,q):\n",
    "        sim={}\n",
    "        for idx_doc,doc in enumerate(d_list):\n",
    "            sim[doc] = self.get_sim(idx_doc,q)\n",
    "        \n",
    "        sim = sorted(sim.items(), key=lambda x:x[1],reverse=True)\n",
    "        ans = \"\"\n",
    "        for i in sim:\n",
    "            ans+=i[0]+' '\n",
    "        return ans\n",
    "# def query(plsa,q):\n",
    "#     sim={}\n",
    "#     for idx_doc,doc in enumerate(d_list):\n",
    "#         sim[doc] = plsa.get_sim(idx_doc,q)\n",
    "#     sim = sorted(sim.items(), key=lambda x:x[1],reverse=True)\n",
    "\n",
    "#     for i,d in enumerate(sim):\n",
    "#         print(d)\n",
    "#         if i==15:\n",
    "#             break\n",
    "        \n",
    "#     ans = \"\"\n",
    "#     for i in sim:\n",
    "#         ans+=i[0]+' '\n",
    "#     return ans\n"
   ]
  },
  {
   "cell_type": "code",
   "execution_count": 22,
   "metadata": {},
   "outputs": [
    {
     "name": "stdout",
     "output_type": "stream",
     "text": [
      "creating index term set\n",
      " creating index term set from query\n"
     ]
    },
    {
     "name": "stderr",
     "output_type": "stream",
     "text": [
      "100%|██████████| 100/100 [00:00<00:00, 9085.46it/s]\n"
     ]
    },
    {
     "name": "stdout",
     "output_type": "stream",
     "text": [
      " creating index term set from doc\n"
     ]
    },
    {
     "name": "stderr",
     "output_type": "stream",
     "text": [
      "100%|██████████| 10000/10000 [00:36<00:00, 275.00it/s]\n"
     ]
    },
    {
     "name": "stdout",
     "output_type": "stream",
     "text": [
      "number of words in index_term_set: 93065\n",
      "...done\n",
      "getting word counts in doc/doc_length/BG\n"
     ]
    },
    {
     "name": "stderr",
     "output_type": "stream",
     "text": [
      "10000it [00:10, 983.81it/s]\n"
     ]
    },
    {
     "name": "stdout",
     "output_type": "stream",
     "text": [
      "calculate total word counts and total counts of each word\n",
      "...done\n",
      "cleaning index term whose c_w<=2\n",
      " index_term_num after cleaning: 31371\n",
      "getting word counts in doc/doc_length/BG\n"
     ]
    },
    {
     "name": "stderr",
     "output_type": "stream",
     "text": [
      "10000it [00:09, 1066.56it/s]\n"
     ]
    },
    {
     "name": "stdout",
     "output_type": "stream",
     "text": [
      "calculate total word counts and total counts of each word\n",
      "...done\n",
      "...done\n",
      "initializing possibilities\n",
      "...done\n"
     ]
    }
   ],
   "source": [
    "#time: < 1min15sec; <3min\n",
    "#creating index term set ~47sec\n",
    "#cleaning index term whose c_w<=2 <10sec\n",
    "plsa=PLSA(5,0.3,0.1)\n",
    "plsa.init_param()"
   ]
  },
  {
   "cell_type": "code",
   "execution_count": 25,
   "metadata": {},
   "outputs": [
    {
     "name": "stderr",
     "output_type": "stream",
     "text": [
      " 47%|████▋     | 9/19 [01:20<01:30,  9.01s/it]"
     ]
    }
   ],
   "source": [
    "# 1 Epoch\n",
    "# total<2min45sec\n",
    "for i in tqdm(range(19)):\n",
    "    plsa.train()\n",
    "    if (i+1)%10==0:\n",
    "        with open('{}_{}_{}.pickle'.format(plsa.param.topic_num, plsa.param.index_term_num, i+1), 'wb') as f:\n",
    "            pickle.dump(plsa, f)"
   ]
  },
  {
   "cell_type": "code",
   "execution_count": 11,
   "metadata": {},
   "outputs": [],
   "source": [
    "with open('32_31371_60.pickle', 'rb') as f:\n",
    "    plsa= pickle.load(f)"
   ]
  },
  {
   "cell_type": "code",
   "execution_count": null,
   "metadata": {},
   "outputs": [
    {
     "name": "stderr",
     "output_type": "stream",
     "text": [
      "100%|██████████| 100/100 [01:31<00:00,  1.09it/s]\n"
     ]
    }
   ],
   "source": [
    "plsa.alpha=0.3\n",
    "plsa.beta=0.1\n",
    "\n",
    "f=open(\"ans.txt\",\"w\")\n",
    "f.write(\"Query,RetrievedDocuments\\n\")\n",
    "for q in tqdm(q_list):\n",
    "    ranking=plsa.query(q)\n",
    "    f.writelines(q+\",\"+ranking+'\\n')\n",
    "f.close()"
   ]
  }
 ],
 "metadata": {
  "interpreter": {
   "hash": "9fee4ced013193308f564d640256c01cc1027b2550c6e22c7b7e8d78aed89e33"
  },
  "kernelspec": {
   "display_name": "Python 3.8.6 64-bit ('ir': venv)",
   "language": "python",
   "name": "python3"
  },
  "language_info": {
   "codemirror_mode": {
    "name": "ipython",
    "version": 3
   },
   "file_extension": ".py",
   "mimetype": "text/x-python",
   "name": "python",
   "nbconvert_exporter": "python",
   "pygments_lexer": "ipython3",
   "version": "3.8.10"
  },
  "orig_nbformat": 4
 },
 "nbformat": 4,
 "nbformat_minor": 2
}
